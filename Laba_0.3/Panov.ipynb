{
 "cells": [
  {
   "cell_type": "code",
   "execution_count": 1,
   "id": "81528b9f",
   "metadata": {},
   "outputs": [],
   "source": [
    "import cv2\n",
    "import torch\n",
    "from PIL import Image"
   ]
  },
  {
   "cell_type": "raw",
   "id": "e3c3fdc8",
   "metadata": {},
   "source": [
    "%cd yolov5\n",
    "%pip install -qr requirements.txt # install dependencies\n",
    "%pip install -q roboflow --user"
   ]
  },
  {
   "cell_type": "code",
   "execution_count": 2,
   "id": "1ed96bf7",
   "metadata": {},
   "outputs": [
    {
     "name": "stdout",
     "output_type": "stream",
     "text": [
      "Setup complete. Using torch 1.12.1+cpu (CPU)\n"
     ]
    }
   ],
   "source": [
    "import torch\n",
    "import os\n",
    "from IPython.display import Image, clear_output  # to display images\n",
    "\n",
    "print(f\"Setup complete. Using torch {torch.__version__} ({torch.cuda.get_device_properties(0).name if torch.cuda.is_available() else 'CPU'})\")"
   ]
  },
  {
   "cell_type": "code",
   "execution_count": 18,
   "id": "29379785",
   "metadata": {
    "scrolled": false
   },
   "outputs": [
    {
     "name": "stderr",
     "output_type": "stream",
     "text": [
      "Traceback (most recent call last):\n",
      "  File \"D:\\Menu\\University\\ML\\Laba_0.3\\yolov5\\train.py\", line 40, in <module>\n",
      "    ROOT = Path(os.path.relpath(ROOT, Path.cwd()))  # relative\n",
      "  File \"C:\\Users\\InColumi\\anaconda3\\lib\\ntpath.py\", line 703, in relpath\n",
      "    raise ValueError(\"path is on mount %r, start on mount %r\" % (\n",
      "ValueError: path is on mount 'D:', start on mount 'C:'\n"
     ]
    }
   ],
   "source": [
    "!python \"D:\\Menu\\University\\ML\\Laba_0.3\\yolov5\\train.py\" --img 640 --batch 16 --epochs 300 --data \"D:\\Menu\\University\\ML\\Laba_0.3\\custom_data.yaml\" --weights yolov5s.pt --cache"
   ]
  },
  {
   "cell_type": "code",
   "execution_count": 16,
   "id": "5ecbeb86",
   "metadata": {},
   "outputs": [
    {
     "data": {
      "text/plain": [
       "<module 'ntpath' from 'C:\\\\Users\\\\InColumi\\\\anaconda3\\\\lib\\\\ntpath.py'>"
      ]
     },
     "execution_count": 16,
     "metadata": {},
     "output_type": "execute_result"
    }
   ],
   "source": [
    "os.path"
   ]
  },
  {
   "cell_type": "code",
   "execution_count": null,
   "id": "4510d5b9",
   "metadata": {},
   "outputs": [],
   "source": []
  }
 ],
 "metadata": {
  "kernelspec": {
   "display_name": "Python 3 (ipykernel)",
   "language": "python",
   "name": "python3"
  },
  "language_info": {
   "codemirror_mode": {
    "name": "ipython",
    "version": 3
   },
   "file_extension": ".py",
   "mimetype": "text/x-python",
   "name": "python",
   "nbconvert_exporter": "python",
   "pygments_lexer": "ipython3",
   "version": "3.9.13"
  }
 },
 "nbformat": 4,
 "nbformat_minor": 5
}
