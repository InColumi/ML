{
 "cells": [
  {
   "cell_type": "code",
   "execution_count": null,
   "id": "cd2966df",
   "metadata": {},
   "outputs": [],
   "source": [
    "pip install pytorch2keras"
   ]
  },
  {
   "cell_type": "code",
   "execution_count": 1,
   "id": "0b90c49f",
   "metadata": {},
   "outputs": [],
   "source": [
    "from torchvision.io.image import read_image\n",
    "from torchvision.models.detection import fasterrcnn_resnet50_fpn_v2, FasterRCNN_ResNet50_FPN_V2_Weights\n",
    "from torchvision.utils import draw_bounding_boxes\n",
    "from torchvision.transforms.functional import to_pil_image\n",
    "\n",
    "\n",
    "# Step 1: Initialize model with the best available weights\n",
    "weights = FasterRCNN_ResNet50_FPN_V2_Weights.DEFAULT\n",
    "model = fasterrcnn_resnet50_fpn_v2(weights=weights, box_score_thresh=0.9)\n",
    "model.eval()\n",
    "\n",
    "# Step 2: Initialize the inference transforms\n",
    "preprocess = weights.transforms()"
   ]
  },
  {
   "cell_type": "code",
   "execution_count": 2,
   "id": "7abae50a",
   "metadata": {},
   "outputs": [
    {
     "name": "stderr",
     "output_type": "stream",
     "text": [
      "C:\\Users\\InColumi\\anaconda3\\lib\\site-packages\\torchvision\\utils.py:237: UserWarning: Argument 'font_size' will be ignored since 'font' is not set.\n",
      "  warnings.warn(\"Argument 'font_size' will be ignored since 'font' is not set.\")\n"
     ]
    }
   ],
   "source": [
    "img = read_image(\"1.jpeg\")\n",
    "# Step 3: Apply inference preprocessing transforms\n",
    "batch = [preprocess(img)]\n",
    "\n",
    "# Step 4: Use the model and visualize the prediction\n",
    "prediction = model(batch)[0]\n",
    "labels = [weights.meta[\"categories\"][i] for i in prediction[\"labels\"]]\n",
    "box = draw_bounding_boxes(img, boxes=prediction[\"boxes\"],\n",
    "                          labels=labels,\n",
    "                          colors=\"red\",\n",
    "                          width=4, font_size=30)\n",
    "im = to_pil_image(box.detach())\n",
    "im.show()"
   ]
  },
  {
   "cell_type": "code",
   "execution_count": null,
   "id": "15d06045",
   "metadata": {},
   "outputs": [],
   "source": [
    "import numpy as np\n",
    "import torch\n",
    "from torch.autograd import Variable\n",
    "from pytorch2keras.converter import pytorch_to_keras\n",
    "import torchvision.models as models\n",
    "\n",
    "if __name__ == '__main__':\n",
    "    input_np = img\n",
    "    input_var = Variable(torch.FloatTensor(input_np))\n",
    "    model = models.resnet18()\n",
    "    model.eval()\n",
    "    k_model = \\\n",
    "        pytorch_to_keras(model, input_var, [(3, 224, 224,)], verbose=True, change_ordering=True)\n",
    "\n",
    "    for i in range(3):\n",
    "        input_np = np.random.uniform(0, 1, (1, 3, 224, 224))\n",
    "        input_var = Variable(torch.FloatTensor(input_np))\n",
    "        output = model(input_var)\n",
    "        pytorch_output = output.data.numpy()\n",
    "        keras_output = k_model.predict(np.transpose(input_np, [0, 2, 3, 1]))\n",
    "        error = np.max(pytorch_output - keras_output)\n",
    "        print('error -- ', error)  # Around zero :)"
   ]
  },
  {
   "cell_type": "code",
   "execution_count": null,
   "id": "a0d2f12c",
   "metadata": {},
   "outputs": [],
   "source": []
  }
 ],
 "metadata": {
  "kernelspec": {
   "display_name": "Python 3 (ipykernel)",
   "language": "python",
   "name": "python3"
  },
  "language_info": {
   "codemirror_mode": {
    "name": "ipython",
    "version": 3
   },
   "file_extension": ".py",
   "mimetype": "text/x-python",
   "name": "python",
   "nbconvert_exporter": "python",
   "pygments_lexer": "ipython3",
   "version": "3.9.12"
  }
 },
 "nbformat": 4,
 "nbformat_minor": 5
}
